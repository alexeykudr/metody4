{
 "cells": [
  {
   "cell_type": "code",
   "execution_count": 28,
   "id": "676c764d",
   "metadata": {},
   "outputs": [
    {
     "data": {
      "text/plain": [
       "1.0"
      ]
     },
     "execution_count": 28,
     "metadata": {},
     "output_type": "execute_result"
    }
   ],
   "source": [
    "data = {0 : 1, \n",
    "        2 : 3, \n",
    "        3 : 2, \n",
    "        4 : 5, \n",
    "        6 : 7}\n",
    "\n",
    "\n",
    "def calc_rzed1(Xi, Xi_1):\n",
    "    result = (data[Xi_1] - data[Xi]) / (Xi_1 - Xi)\n",
    "    return result\n",
    "\n",
    "calc_rzed1(4,6)\n",
    "\n",
    "    \n",
    "    \n",
    "    \n",
    "    \n"
   ]
  },
  {
   "cell_type": "code",
   "execution_count": 65,
   "id": "46389813",
   "metadata": {},
   "outputs": [
    {
     "name": "stdout",
     "output_type": "stream",
     "text": [
      "rzad number  0\n"
     ]
    },
    {
     "ename": "AttributeError",
     "evalue": "'int' object has no attribute 'append'",
     "output_type": "error",
     "traceback": [
      "\u001b[0;31m---------------------------------------------------------------------------\u001b[0m",
      "\u001b[0;31mAttributeError\u001b[0m                            Traceback (most recent call last)",
      "\u001b[0;32m/var/folders/2n/4ygnf0yj5q7__dbhtjlx5lfm0000gn/T/ipykernel_14787/2845031655.py\u001b[0m in \u001b[0;36m<module>\u001b[0;34m\u001b[0m\n\u001b[1;32m     13\u001b[0m         \u001b[0mz\u001b[0m \u001b[0;34m=\u001b[0m \u001b[0mcalc_rzed1\u001b[0m\u001b[0;34m(\u001b[0m\u001b[0mvartosci\u001b[0m\u001b[0;34m[\u001b[0m\u001b[0mlen\u001b[0m\u001b[0;34m(\u001b[0m\u001b[0mvartosci\u001b[0m\u001b[0;34m)\u001b[0m \u001b[0;34m-\u001b[0m \u001b[0mj\u001b[0m \u001b[0;34m-\u001b[0m \u001b[0;36m1\u001b[0m\u001b[0;34m]\u001b[0m\u001b[0;34m,\u001b[0m \u001b[0mvartosci\u001b[0m\u001b[0;34m[\u001b[0m\u001b[0mlen\u001b[0m\u001b[0;34m(\u001b[0m\u001b[0mvartosci\u001b[0m\u001b[0;34m)\u001b[0m \u001b[0;34m-\u001b[0m \u001b[0mj\u001b[0m\u001b[0;34m]\u001b[0m\u001b[0;34m)\u001b[0m\u001b[0;34m\u001b[0m\u001b[0;34m\u001b[0m\u001b[0m\n\u001b[1;32m     14\u001b[0m \u001b[0;31m#         print(data1[vatrosci[len(vartosci)-1]\u001b[0m\u001b[0;34m\u001b[0m\u001b[0;34m\u001b[0m\u001b[0m\n\u001b[0;32m---> 15\u001b[0;31m         \u001b[0mdata1\u001b[0m\u001b[0;34m[\u001b[0m\u001b[0mvartosci\u001b[0m\u001b[0;34m[\u001b[0m\u001b[0mj\u001b[0m\u001b[0;34m]\u001b[0m\u001b[0;34m]\u001b[0m\u001b[0;34m[\u001b[0m\u001b[0mi\u001b[0m\u001b[0;34m]\u001b[0m\u001b[0;34m.\u001b[0m\u001b[0mappend\u001b[0m\u001b[0;34m(\u001b[0m\u001b[0mz\u001b[0m\u001b[0;34m)\u001b[0m\u001b[0;34m\u001b[0m\u001b[0;34m\u001b[0m\u001b[0m\n\u001b[0m\u001b[1;32m     16\u001b[0m \u001b[0;34m\u001b[0m\u001b[0m\n\u001b[1;32m     17\u001b[0m     \u001b[0;32mbreak\u001b[0m\u001b[0;34m\u001b[0m\u001b[0;34m\u001b[0m\u001b[0m\n",
      "\u001b[0;31mAttributeError\u001b[0m: 'int' object has no attribute 'append'"
     ]
    }
   ],
   "source": [
    "data1 = {0 : [1, []], \n",
    "        2 : [3,[]], \n",
    "        3 : [2,[]], \n",
    "        4 : [5,[]], \n",
    "        6 : [7,[]]}\n",
    "\n",
    "vartosci = [0, 2,3,4,6]\n",
    "\n",
    "for i in range(len(data1)-1):\n",
    "    print(\"rzad number \", i)\n",
    "    for j in range(len(data1)-i - 1,0, -1):\n",
    "#         print(\"In J\", j)\n",
    "        z = calc_rzed1(vartosci[len(vartosci) - j - 1], vartosci[len(vartosci) - j])\n",
    "#         print(data1[vatrosci[len(vartosci)-1]\n",
    "        data1[vartosci[j]][i].append(z)\n",
    "            \n",
    "    break\n",
    "\n",
    "\n",
    "        "
   ]
  },
  {
   "cell_type": "code",
   "execution_count": 77,
   "id": "602a2c9e",
   "metadata": {},
   "outputs": [
    {
     "ename": "IndentationError",
     "evalue": "unexpected indent (2908689588.py, line 7)",
     "output_type": "error",
     "traceback": [
      "\u001b[0;36m  File \u001b[0;32m\"/var/folders/2n/4ygnf0yj5q7__dbhtjlx5lfm0000gn/T/ipykernel_14787/2908689588.py\"\u001b[0;36m, line \u001b[0;32m7\u001b[0m\n\u001b[0;31m    for i in range(n):\u001b[0m\n\u001b[0m    ^\u001b[0m\n\u001b[0;31mIndentationError\u001b[0m\u001b[0;31m:\u001b[0m unexpected indent\n"
     ]
    }
   ],
   "source": [
    "x = [1, 3, 5, 7] # x-координаты из таблицы\n",
    "y = [2, 3, 3, 2] # y-координаты из таблицы\n",
    "\n",
    "def product( val, n ):\n",
    "    \"\"\" Вспомогательный генератор для вычисления произведения разностей координат \"\"\"\n",
    "    mul=1\n",
    "        for i in range(n):\n",
    "            if i: mul *= val - x[i-1]\n",
    "                yield mul\n",
    "C=[] # список коэффициентов полинома\n",
    "\n",
    "# вычисляем коэффициенты\n",
    "for n in range(len(x)):\n",
    "        p = product( x[n], n+1 )\n",
    "        C.append( (y[n]-sum(C[k]*next(p) for k in range(n)) )/next(p) )\n",
    "\n",
    "def f( v ):\n",
    "    \"\"\" Значение полинома в точке v \"\"\"\n",
    "    return sum( C[k]*p for k, p in enumerate(product(v, len(C)) ) )"
   ]
  },
  {
   "cell_type": "code",
   "execution_count": null,
   "id": "e091a4a4",
   "metadata": {},
   "outputs": [],
   "source": [
    "def product(val,n):\n",
    "    mul=1\n",
    "    for i in range(n):"
   ]
  },
  {
   "cell_type": "code",
   "execution_count": null,
   "id": "4b55ae70",
   "metadata": {},
   "outputs": [],
   "source": []
  },
  {
   "cell_type": "code",
   "execution_count": null,
   "id": "d4b9a205",
   "metadata": {},
   "outputs": [],
   "source": []
  },
  {
   "cell_type": "code",
   "execution_count": null,
   "id": "5b5596f9",
   "metadata": {},
   "outputs": [],
   "source": []
  },
  {
   "cell_type": "code",
   "execution_count": null,
   "id": "720867b2",
   "metadata": {},
   "outputs": [],
   "source": []
  },
  {
   "cell_type": "code",
   "execution_count": null,
   "id": "511d2d48",
   "metadata": {},
   "outputs": [],
   "source": []
  },
  {
   "cell_type": "code",
   "execution_count": null,
   "id": "721e7ad0",
   "metadata": {},
   "outputs": [],
   "source": []
  },
  {
   "cell_type": "code",
   "execution_count": null,
   "id": "fb4c3feb",
   "metadata": {},
   "outputs": [],
   "source": []
  },
  {
   "cell_type": "code",
   "execution_count": null,
   "id": "66382370",
   "metadata": {},
   "outputs": [],
   "source": []
  },
  {
   "cell_type": "code",
   "execution_count": null,
   "id": "69fe3110",
   "metadata": {},
   "outputs": [],
   "source": []
  },
  {
   "cell_type": "code",
   "execution_count": null,
   "id": "596bbfa2",
   "metadata": {},
   "outputs": [],
   "source": []
  },
  {
   "cell_type": "code",
   "execution_count": null,
   "id": "fcf2eb90",
   "metadata": {},
   "outputs": [],
   "source": []
  },
  {
   "cell_type": "code",
   "execution_count": null,
   "id": "63f43a36",
   "metadata": {},
   "outputs": [],
   "source": []
  },
  {
   "cell_type": "code",
   "execution_count": null,
   "id": "db6e5348",
   "metadata": {},
   "outputs": [],
   "source": []
  },
  {
   "cell_type": "code",
   "execution_count": null,
   "id": "a1feaa3a",
   "metadata": {},
   "outputs": [],
   "source": []
  }
 ],
 "metadata": {
  "kernelspec": {
   "display_name": "Python 3 (ipykernel)",
   "language": "python",
   "name": "python3"
  },
  "language_info": {
   "codemirror_mode": {
    "name": "ipython",
    "version": 3
   },
   "file_extension": ".py",
   "mimetype": "text/x-python",
   "name": "python",
   "nbconvert_exporter": "python",
   "pygments_lexer": "ipython3",
   "version": "3.9.7"
  }
 },
 "nbformat": 4,
 "nbformat_minor": 5
}
