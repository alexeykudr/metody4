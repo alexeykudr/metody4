{
 "cells": [
  {
   "cell_type": "code",
   "execution_count": null,
   "id": "d3ec0d22",
   "metadata": {},
   "outputs": [],
   "source": [
    "import matplotlib.pyplot as plt\n",
    "\n",
    "def get_divided_difference(x_values:list, y_values:list, k:int) -> int:\n",
    "    result = 0\n",
    "#     trzeba na k tez , range oddaje k-1 , wiec k + 1\n",
    "    for j in range(k + 1):\n",
    "        product = 1\n",
    "        for i in range(k + 1):\n",
    "            if i != j:\n",
    "                product *= x_values[j] - x_values[i]\n",
    "        result += y_values[j] / product\n",
    "    print(result)\n",
    "    return result\n",
    "\n",
    "\n",
    "def generate_Newton_interpolation(x_values, y_values):\n",
    "    div_diff = []\n",
    "    for i in range(1, len(x_values)):\n",
    "        div_diff.append(get_divided_difference(x_values, y_values, i))\n",
    "        \n",
    "    def calc_Newton(x):\n",
    "        result = y_values[0]\n",
    "        for k in range(1, len(y_values)):\n",
    "            product = 1\n",
    "            for j in range(k):\n",
    "                product *= (x - x_values[j])\n",
    "            result += div_diff[k-1] * product\n",
    "        \n",
    "        return result\n",
    "    return calc_Newton\n",
    "\n",
    "\n",
    "x_test = [0,2,3,4,6]\n",
    "y_test = [1,3,2,5,7]\n",
    "\n",
    "\n",
    "\n",
    "n = generate_Newton_interpolation(x_test, y_test)\n",
    "\n",
    "aproximate = []\n",
    "\n",
    "for i in x_test:\n",
    "    aproximate.append(n(i))\n",
    "\n",
    "\n",
    "plt.plot(aproximate, color= 'r')\n",
    "\n"
   ]
  },
  {
   "cell_type": "code",
   "execution_count": null,
   "id": "40d5cc43",
   "metadata": {},
   "outputs": [],
   "source": [
    "res = 0\n",
    "n = float(input(\"Enter max ^\"))\n",
    "x = float(input(\"Enter x0\"))\n",
    "while n > 0:\n",
    "    coef = float(input(\"Enter coefs on x\"))\n",
    "    res += coef\n",
    "    res *= x\n",
    "    n -= 1\n",
    "\n",
    "    \n",
    "coef = float(input(\"Enter free coef. exmpl\"))\n",
    "res += coef\n",
    "print(res)"
   ]
  },
  {
   "cell_type": "code",
   "execution_count": null,
   "id": "d50189fd",
   "metadata": {},
   "outputs": [],
   "source": []
  }
 ],
 "metadata": {
  "kernelspec": {
   "display_name": "Python 3 (ipykernel)",
   "language": "python",
   "name": "python3"
  },
  "language_info": {
   "codemirror_mode": {
    "name": "ipython",
    "version": 3
   },
   "file_extension": ".py",
   "mimetype": "text/x-python",
   "name": "python",
   "nbconvert_exporter": "python",
   "pygments_lexer": "ipython3",
   "version": "3.9.7"
  }
 },
 "nbformat": 4,
 "nbformat_minor": 5
}
