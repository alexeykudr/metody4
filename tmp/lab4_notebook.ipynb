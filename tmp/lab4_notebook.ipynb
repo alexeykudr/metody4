{
 "cells": [
  {
   "cell_type": "code",
   "execution_count": 1,
   "id": "d3ec0d22",
   "metadata": {},
   "outputs": [
    {
     "name": "stdout",
     "output_type": "stream",
     "text": [
      "[-0.16666666666666666, 0.016666666666666663]\n"
     ]
    }
   ],
   "source": [
    "# import matplotlib.pyplot as plt\n",
    "\n",
    "ilorazy = []\n",
    "\n",
    "def get_divided_difference(x_values:list, y_values:list, k:int) -> int:\n",
    "    result = 0\n",
    "#     trzeba na k tez , range oddaje k-1 , wiec k + 1\n",
    "    for j in range(k + 1):\n",
    "        product = 1\n",
    "        for i in range(k + 1):\n",
    "            if i != j:\n",
    "                product *= x_values[j] - x_values[i]\n",
    "        result += y_values[j] / product\n",
    "    \n",
    "#     print(result)\n",
    "    ilorazy.append(result)\n",
    "    return result\n",
    "\n",
    "\n",
    "def generate_Newton_interpolation(x_values, y_values):\n",
    "    div_diff = []\n",
    "    for i in range(1, len(x_values)):\n",
    "        div_diff.append(get_divided_difference(x_values, y_values, i))\n",
    "        \n",
    "    def calc_Newton(x):\n",
    "        result = y_values[0]\n",
    "        for k in range(1, len(y_values)):\n",
    "            product = 1\n",
    "            for j in range(k):\n",
    "                product *= (x - x_values[j])\n",
    "            result += div_diff[k-1] * product\n",
    "        \n",
    "        return result\n",
    "    return calc_Newton\n",
    "\n",
    "\n",
    "x_test = [1, 4  , 9]\n",
    "y_test = [1, 1/2  ,1/3]\n",
    "n = generate_Newton_interpolation(x_test, y_test)\n",
    "\n",
    "# aproximate = []\n",
    "\n",
    "# for i in x_test:\n",
    "#     aproximate.append(n(i))\n",
    "\n",
    "\n",
    "\n",
    "\n",
    "print(ilorazy)"
   ]
  },
  {
   "cell_type": "code",
   "execution_count": null,
   "id": "40d5cc43",
   "metadata": {},
   "outputs": [
    {
     "name": "stdout",
     "output_type": "stream",
     "text": [
      "Enter max ^3\n",
      "Enter x040\n",
      "Enter coefs on x-160\n"
     ]
    }
   ],
   "source": [
    "res = 0\n",
    "n = float(input(\"Enter max ^\"))\n",
    "x = float(input(\"Enter x0\"))\n",
    "while n > 0:\n",
    "    coef = float(input(\"Enter coefs on x\"))\n",
    "    res += coef\n",
    "    res *= x\n",
    "    n -= 1\n",
    "\n",
    "    \n",
    "coef = float(input(\"Enter free coef.\"))\n",
    "res += coef\n",
    "print(res)"
   ]
  },
  {
   "cell_type": "code",
   "execution_count": 13,
   "id": "43030aee",
   "metadata": {},
   "outputs": [
    {
     "data": {
      "image/png": "[encoded data removed]",
      "text/plain": [
       "<Figure size 720x576 with 1 Axes>"
      ]
     },
     "metadata": {
      "needs_background": "light"
     },
     "output_type": "display_data"
    }
   ],
   "source": [
    "from scipy.interpolate import CubicSpline\n",
    "import numpy as np\n",
    "import matplotlib.pyplot as plt\n",
    "\n",
    "plt.style.use('seaborn-poster')\n",
    "x = [0, 1, 2,3]\n",
    "y = [10,10,0,100]\n",
    "\n",
    "# use bc_type = 'natural' adds the constraints as we described above\n",
    "f = CubicSpline(x, y, bc_type='natural')\n",
    "x_new = np.linspace(0, 3, 10)\n",
    "y_new = f(x_new)\n",
    "\n",
    "\n",
    "plt.figure(figsize = (10,8))\n",
    "plt.plot(x_new, y_new, 'b')\n",
    "plt.plot(x, y, 'ro')\n",
    "plt.title('Cubic Spline Interpolation')\n",
    "plt.xlabel('x')\n",
    "plt.ylabel('y')\n",
    "plt.show()"
   ]
  },
  {
   "cell_type": "code",
   "execution_count": null,
   "id": "9ca18424",
   "metadata": {},
   "outputs": [],
   "source": []
  },
  {
   "cell_type": "code",
   "execution_count": null,
   "id": "874b520c",
   "metadata": {},
   "outputs": [],
   "source": []
  },
  {
   "cell_type": "code",
   "execution_count": null,
   "id": "bb2d3ad8",
   "metadata": {},
   "outputs": [],
   "source": []
  },
  {
   "cell_type": "code",
   "execution_count": null,
   "id": "6a55f39c",
   "metadata": {},
   "outputs": [],
   "source": []
  }
 ],
 "metadata": {
  "kernelspec": {
   "display_name": "Python 3 (ipykernel)",
   "language": "python",
   "name": "python3"
  },
  "language_info": {
   "codemirror_mode": {
    "name": "ipython",
    "version": 3
   },
   "file_extension": ".py",
   "mimetype": "text/x-python",
   "name": "python",
   "nbconvert_exporter": "python",
   "pygments_lexer": "ipython3",
   "version": "3.8.5"
  }
 },
 "nbformat": 4,
 "nbformat_minor": 5
}
