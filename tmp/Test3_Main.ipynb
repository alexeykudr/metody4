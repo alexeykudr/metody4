{
 "cells": [
  {
   "cell_type": "code",
   "execution_count": 2,
   "id": "c53bdca3",
   "metadata": {},
   "outputs": [
    {
     "name": "stdout",
     "output_type": "stream",
     "text": [
      "24.25\n"
     ]
    }
   ],
   "source": [
    "# trapezy lista\n",
    "\n",
    "def trap_s(xi, f_xi):\n",
    "    a = xi[0]\n",
    "    b = xi[len(xi)-1]\n",
    "    h = xi[1] - xi[0]\n",
    "    n = (b-a) / h\n",
    "    h_h = (b-a) / n\n",
    "    s = 0\n",
    "    \n",
    "    for i in range(1, int(n)):\n",
    "        s+= f_xi[i]\n",
    "    res = (1/2 * h_h) * (f_xi[0]+(2 *s) + f_xi[int(n)])\n",
    "    print(res)\n",
    "\n",
    "xi = [1, 1.5, 2, 2.5, 3]\n",
    "\n",
    "yi = [2, 5.75, 11 , 17.75, 26]\n",
    "trap_s(xi, yi)"
   ]
  },
  {
   "cell_type": "code",
   "execution_count": 4,
   "id": "d80337f8",
   "metadata": {},
   "outputs": [
    {
     "name": "stdout",
     "output_type": "stream",
     "text": [
      "4.0\n"
     ]
    }
   ],
   "source": [
    "# trapezy fx\n",
    "\n",
    "def trap(Fx, a, b, h):\n",
    "#     calc integral value from a to b, with given fx function\n",
    "# a , b - gora minus dol, n- ilosc odcinkow, 0-1, 1/4 - 1/4 / 1 = 4 = 0.25\n",
    "    n = (b-a) / h\n",
    "    h = (b-a) / n\n",
    "    xi = []\n",
    "    f_xi = []\n",
    "   \n",
    "    for i in range(int(n)+1):\n",
    "        x_i = a + (i * h)\n",
    "        fx_xi = Fx(x_i)\n",
    "        xi.append(x_i)\n",
    "        f_xi.append(fx_xi)\n",
    "\n",
    "    s = 0\n",
    "    for i in range(1, int(n)):\n",
    "        s+= f_xi[i]\n",
    "    qf = 1/2 * h\n",
    "   \n",
    "    res = qf * ( (Fx(a) + 2 * s + Fx(b)))\n",
    "    return res\n",
    "    \n",
    "def fx(x):\n",
    "    return x\n",
    "\n",
    "# кол-во участков интегрирования - целое число\n",
    "print(trap(fx, 1, 3, 1/2))"
   ]
  },
  {
   "cell_type": "code",
   "execution_count": 45,
   "id": "6edf9329",
   "metadata": {},
   "outputs": [
    {
     "data": {
      "text/plain": [
       "24.0"
      ]
     },
     "execution_count": 45,
     "metadata": {},
     "output_type": "execute_result"
    }
   ],
   "source": [
    "# #Simpson lista\n",
    "\n",
    "h = 1/2\n",
    "n = (b-a)/(2*h)\n",
    "\n",
    "xi = [1, 1.5, 2, 2.5, 3]\n",
    "\n",
    "yi = [2, 5.75, 11 , 17.75, 26]\n",
    "\n",
    "summ_div_2 = 0\n",
    "\n",
    "for i in range(len(yi)):\n",
    "    if yi[i] == yi[0] or yi[i] == yi[-1] or i % 2 == 0:\n",
    "        pass\n",
    "    else:\n",
    "        summ_div_2 += yi[i]\n",
    "\n",
    "summ_not_div_2 = 0\n",
    "for i in range(len(yi)):\n",
    "    if yi[i] == yi[0] or yi[i] == yi[-1] or i % 2 != 0:\n",
    "        pass\n",
    "    else:\n",
    "        summ_not_div_2+= summ_not_div_2 + yi[i]\n",
    "    \n",
    "Qf = h/3 * (yi[0] + 4*summ_div_2 + 2*summ_not_div_2 + yi[-1])\n",
    "Qf\n",
    "\n"
   ]
  },
  {
   "cell_type": "code",
   "execution_count": 44,
   "id": "6b54d371",
   "metadata": {},
   "outputs": [
    {
     "name": "stdout",
     "output_type": "stream",
     "text": [
      "1.2000325520833333\n"
     ]
    }
   ],
   "source": [
    "#Simpson funckja\n",
    "def f(x):\n",
    "    return x**4 + 1\n",
    "\n",
    "a = 0\n",
    "b = 1\n",
    "\n",
    "h = 1/8\n",
    "n = (b-a)/(2*h)\n",
    "\n",
    "xi = []\n",
    "xi.append(a)\n",
    "\n",
    "for i in range(int(n)*2):\n",
    "    if i == 0:\n",
    "        continue\n",
    "    else:\n",
    "        xi.append(a + i*h)\n",
    "xi.append(b)\n",
    "\n",
    "yi = []\n",
    "for i in xi:\n",
    "    yi.append(f(i))\n",
    "    \n",
    "summ_div_2 = 0\n",
    "for i in range(len(yi)):\n",
    "    if yi[i] == yi[0] or yi[i] == yi[-1] or i % 2 == 0:\n",
    "        pass\n",
    "    else:\n",
    "        summ_div_2 += yi[i]\n",
    "\n",
    "summ_not_div_2 = 0\n",
    "for i in range(len(yi)):\n",
    "    if yi[i] == yi[0] or yi[i] == yi[-1] or i % 2 != 0:\n",
    "        pass\n",
    "    else:\n",
    "        summ_not_div_2 = summ_not_div_2 + yi[i]\n",
    "    \n",
    "Qf = h/3 * (yi[0] + 4*summ_div_2 + 2*summ_not_div_2 + yi[-1])\n",
    "print(Qf)"
   ]
  },
  {
   "cell_type": "code",
   "execution_count": 43,
   "id": "3633d117",
   "metadata": {},
   "outputs": [
    {
     "name": "stdout",
     "output_type": "stream",
     "text": [
      "step 1 a: 1     b: 1.5\n",
      "step 2 a: 1     b: 1.25\n",
      "step 3 a: 1.125     b: 1.25\n",
      "step 4 a: 1.1875     b: 1.25\n",
      "step 5 a: 1.21875     b: 1.25\n",
      "step 6 a: 1.234375     b: 1.25\n",
      "step 7 a: 1.234375     b: 1.2421875\n",
      "step 8 a: 1.23828125     b: 1.2421875\n",
      "step 9 a: 1.240234375     b: 1.2421875\n",
      "step 10 a: 1.2412109375     b: 1.2421875\n",
      "step 11 a: 1.24169921875     b: 1.2421875\n",
      "step 12 a: 1.24169921875     b: 1.241943359375\n",
      "step 13 a: 1.2418212890625     b: 1.241943359375\n",
      "step 14 a: 1.24188232421875     b: 1.241943359375\n",
      "step 15 a: 1.24188232421875     b: 1.241912841796875\n",
      "step 16 a: 1.24188232421875     b: 1.2418975830078125\n",
      "counter in half divide method  16\n",
      "root of the equation half_divide_method 1.2418899536132812\n",
      "counter in newtons  4\n",
      "root of the equation newtons_method 1.2418965630345107\n"
     ]
    }
   ],
   "source": [
    "# Бисекция и Ньютона(стычных)\n",
    "\n",
    "import math\n",
    "\n",
    "# f i f'\n",
    "equation =  lambda x: x**3 +2*x**2 - 5\n",
    "equation_prim = lambda x: 3*x**2 + 4*x\n",
    "\n",
    "a1, b1 = 1, 2\n",
    "\n",
    "e = 0.00001\n",
    "\n",
    "def h_devide(a, b, f):\n",
    "#     bisekcja\n",
    "    x = (a + b) / 2\n",
    "    count = 0\n",
    "    while math.fabs(f(x)) >= e:\n",
    "#         print(f\"fx {f(x)}, fabs {math.fabs(f(x))}\")\n",
    "        count +=1\n",
    "        x = (a + b) / 2\n",
    "        if f(a) * f(x) < 0:\n",
    "            a,b = a,x\n",
    "        else:\n",
    "            a,b = x,b\n",
    "        print(f'step {count} a: {a}     b: {b}')\n",
    "    print('counter in half divide method ', count)\n",
    "    return (a + b) / 2\n",
    "\n",
    "\n",
    "def newtons_method(a, b, f, f1):\n",
    "#     newton,\n",
    "    x0 = (a + b) / 2\n",
    "    x1 = x0 - (f(x0) / f1(x0))\n",
    "    count = 0\n",
    "    while True:\n",
    "        count +=1\n",
    "        if math.fabs(x1 - x0) < e: \n",
    "            print('counter in newtons ', count)\n",
    "            return x1\n",
    "        x0 = x1\n",
    "        x1 = x0 - (f(x0) / f1(x0))\n",
    "    \n",
    "\n",
    "\n",
    "print('root of the equation half_divide_method' , h_devide(a1, b1, equation))\n",
    "print('root of the equation newtons_method' , newtons_method(a1, b1, equation, equation_prim))"
   ]
  },
  {
   "cell_type": "code",
   "execution_count": 27,
   "id": "4b6168d6",
   "metadata": {},
   "outputs": [
    {
     "name": "stdout",
     "output_type": "stream",
     "text": [
      "X IS 1.6 , in step : 1\n",
      "X IS 1.7422680412371134 , in step : 2\n",
      "X IS 1.7729559878279366 , in step : 3\n",
      "X IS 1.7692203651195755 , in step : 4\n",
      "X IS 1.7692921651959501 , in step : 5\n",
      "X IS 1.769292354248405 , in step : 6\n",
      "1.769292354248405 1e-05\n",
      "1.76929\n"
     ]
    }
   ],
   "source": [
    "# секущие ОК\n",
    "import math\n",
    "\n",
    "def fun(x):\n",
    "    return x**3- 2*x -2\n",
    "\n",
    "def round_eps(x,e):\n",
    "    k = 0\n",
    "    while e < 1:\n",
    "        e *= 10\n",
    "        k += 1\n",
    "    return round(x,k)\n",
    "\n",
    "x0 = 1\n",
    "x1 = 2\n",
    "eps = 0.00001\n",
    "\n",
    "x2 = x1-(x1-x0) * fun(x0) / (fun(x1) - fun(x0))\n",
    "i = 0\n",
    "while math.fabs(x0-x1) > eps:\n",
    "    i += 1\n",
    "    x2 = x1 - (x1-x0)*fun(x1)/(fun(x1)- fun(x0))\n",
    "    x0 = x1\n",
    "    x1 = x2\n",
    "    print(f\"X IS {x2} , in step : {i}\")\n",
    "print(x2, eps)\n",
    "print(round_eps(x2, eps))"
   ]
  },
  {
   "cell_type": "code",
   "execution_count": 14,
   "id": "b693c5cd",
   "metadata": {},
   "outputs": [
    {
     "name": "stdout",
     "output_type": "stream",
     "text": [
      "12.75\n",
      "24.0\n"
     ]
    }
   ],
   "source": [
    "import numpy as np\n",
    "x_trap = [1, 5, 3/2, 7/4, 2]\n",
    "y_trap = [10,8,7,6,5]\n",
    "\n",
    "print(np.trapz(y_trap, x = x_trap))\n",
    "\n",
    "\n",
    "from scipy import integrate\n",
    "x = [1, 1.5, 2, 2.5, 3]\n",
    "y = [2, 5.75, 11 , 17.75, 26]\n",
    "print(integrate.simps(y, x))"
   ]
  },
  {
   "cell_type": "code",
   "execution_count": null,
   "id": "f71c3e82",
   "metadata": {},
   "outputs": [],
   "source": []
  },
  {
   "cell_type": "code",
   "execution_count": null,
   "id": "53436626",
   "metadata": {},
   "outputs": [],
   "source": []
  },
  {
   "cell_type": "code",
   "execution_count": null,
   "id": "655a613b",
   "metadata": {},
   "outputs": [],
   "source": []
  },
  {
   "cell_type": "code",
   "execution_count": null,
   "id": "51706983",
   "metadata": {},
   "outputs": [],
   "source": []
  },
  {
   "cell_type": "code",
   "execution_count": null,
   "id": "12992d56",
   "metadata": {},
   "outputs": [],
   "source": []
  },
  {
   "cell_type": "code",
   "execution_count": null,
   "id": "291223fe",
   "metadata": {},
   "outputs": [],
   "source": []
  },
  {
   "cell_type": "code",
   "execution_count": null,
   "id": "855183d7",
   "metadata": {},
   "outputs": [],
   "source": []
  },
  {
   "cell_type": "code",
   "execution_count": null,
   "id": "e6493152",
   "metadata": {},
   "outputs": [],
   "source": []
  },
  {
   "cell_type": "code",
   "execution_count": null,
   "id": "24eae6fc",
   "metadata": {},
   "outputs": [],
   "source": []
  },
  {
   "cell_type": "code",
   "execution_count": null,
   "id": "460527e7",
   "metadata": {},
   "outputs": [],
   "source": []
  },
  {
   "cell_type": "code",
   "execution_count": null,
   "id": "56c90aec",
   "metadata": {},
   "outputs": [],
   "source": []
  },
  {
   "cell_type": "code",
   "execution_count": null,
   "id": "38cab3fb",
   "metadata": {},
   "outputs": [],
   "source": []
  },
  {
   "cell_type": "code",
   "execution_count": null,
   "id": "8eec1247",
   "metadata": {},
   "outputs": [],
   "source": []
  },
  {
   "cell_type": "code",
   "execution_count": null,
   "id": "fb415345",
   "metadata": {},
   "outputs": [],
   "source": []
  },
  {
   "cell_type": "code",
   "execution_count": null,
   "id": "0b1a042a",
   "metadata": {},
   "outputs": [],
   "source": []
  },
  {
   "cell_type": "code",
   "execution_count": null,
   "id": "6f355b01",
   "metadata": {},
   "outputs": [],
   "source": []
  },
  {
   "cell_type": "code",
   "execution_count": null,
   "id": "423ca652",
   "metadata": {},
   "outputs": [],
   "source": []
  },
  {
   "cell_type": "code",
   "execution_count": null,
   "id": "aa6120c7",
   "metadata": {},
   "outputs": [],
   "source": []
  }
 ],
 "metadata": {
  "kernelspec": {
   "display_name": "env",
   "language": "python",
   "name": "env"
  },
  "language_info": {
   "codemirror_mode": {
    "name": "ipython",
    "version": 3
   },
   "file_extension": ".py",
   "mimetype": "text/x-python",
   "name": "python",
   "nbconvert_exporter": "python",
   "pygments_lexer": "ipython3",
   "version": "3.8.5"
  }
 },
 "nbformat": 4,
 "nbformat_minor": 5
}
