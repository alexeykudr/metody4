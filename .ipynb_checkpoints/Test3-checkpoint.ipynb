{
 "cells": [
  {
   "cell_type": "code",
   "execution_count": 431,
   "id": "ab673bed",
   "metadata": {},
   "outputs": [
    {
     "name": "stdout",
     "output_type": "stream",
     "text": [
      "7.125\n",
      "22.500667735042736\n"
     ]
    }
   ],
   "source": [
    "import numpy as np\n",
    "x_trap = [1, 5, 3/2, 7/4, 2]\n",
    "y_trap = [10,8,7,6,5]\n",
    "\n",
    "print(np.trapz(y_trap, x = x_trap))\n",
    "\n",
    "\n",
    "from scipy import integrate\n",
    "x = [1, 1/5, 2, 2/5, 3]\n",
    "y = [2, 5.75, 11 , 17.75, 26]\n",
    "print(integrate.simps(y, x))"
   ]
  },
  {
   "cell_type": "code",
   "execution_count": 8,
   "id": "c994b77c",
   "metadata": {},
   "outputs": [
    {
     "name": "stdout",
     "output_type": "stream",
     "text": [
      "0.5\n"
     ]
    }
   ],
   "source": [
    "def trap_simple(Fx, a, b):\n",
    "    return ((b-a)/2) * (Fx(a) + Fx(b))\n",
    "\n",
    "def fx(x):\n",
    "    return x**2\n",
    "\n",
    "print(trap_simple(fx, 0 , 1))"
   ]
  },
  {
   "cell_type": "code",
   "execution_count": 13,
   "id": "30a2c043",
   "metadata": {},
   "outputs": [
    {
     "name": "stdout",
     "output_type": "stream",
     "text": [
      "0.3400000000000001\n"
     ]
    }
   ],
   "source": [
    "def trap(Fx, a, b, h):\n",
    "#     calc integral value from a to b, with given fx function\n",
    "# a , b - gora minus dol, n- ilosc odcinkow, 0-1, 1/4 - 1/4 / 1 = 4 = 0.25\n",
    "    n = (b-a) / h\n",
    "    h = (b-a) / n\n",
    "    xi = []\n",
    "    f_xi = []\n",
    "   \n",
    "    for i in range(int(n)+1):\n",
    "        x_i = a + (i * h)\n",
    "        fx_xi = Fx(x_i)\n",
    "        xi.append(x_i)\n",
    "        f_xi.append(fx_xi)\n",
    "\n",
    "    s = 0\n",
    "    for i in range(1, int(n)):\n",
    "        s+= f_xi[i]\n",
    "    qf = 1/2 * h\n",
    "   \n",
    "    res = qf * ( (Fx(a) + 2 * s + Fx(b)))\n",
    "    return res\n",
    "    \n",
    "def fx(x):\n",
    "    return x**2\n",
    "\n",
    "# кол-во участков интегрирования - целое число\n",
    "print(trap(fx, 0, 1, 1/5))"
   ]
  },
  {
   "cell_type": "code",
   "execution_count": 379,
   "id": "9bfa9ff9",
   "metadata": {},
   "outputs": [
    {
     "name": "stdout",
     "output_type": "stream",
     "text": [
      "7.125\n"
     ]
    }
   ],
   "source": [
    "def trap_array():\n",
    "    \n",
    "#     calc trapez by given arays of xi and yi , need manualy calc step and\n",
    "    xi = [1, 5/4, 3/2, 7/4, 2]\n",
    "    f_xi = [10, 8 , 7 , 6 , 5]\n",
    "    a = xi[0]\n",
    "    b = xi[len(xi)-1]\n",
    "    h = xi[1] - xi[0]\n",
    "    n = (b-a) / h\n",
    "    h_h = (b-a) / n\n",
    "    s = 0\n",
    "    \n",
    "    for i in range(1, int(n)):\n",
    "        s+= f_xi[i]\n",
    "    res = (1/2 * h_h) * (f_xi[0]+(2 *s) + f_xi[int(n)])\n",
    "    print(res)\n",
    "\n",
    "# кол-во участков интегрирования - целое число\n",
    "trap_array()"
   ]
  },
  {
   "cell_type": "code",
   "execution_count": 109,
   "id": "b7c9dc04",
   "metadata": {},
   "outputs": [
    {
     "name": "stdout",
     "output_type": "stream",
     "text": [
      "1.2083333333333333\n"
     ]
    }
   ],
   "source": [
    "def simpson_simple(Fx, a, b):\n",
    "    return (b-a)/6 * (Fx(a) + 4 * Fx((a+b)/2) + Fx(b))\n",
    "\n",
    "def f(x):\n",
    "    return x**4 + 1\n",
    "\n",
    "print(simpson_simple(f, 0 , 1))"
   ]
  },
  {
   "cell_type": "code",
   "execution_count": 112,
   "id": "0af83f75",
   "metadata": {},
   "outputs": [
    {
     "name": "stdout",
     "output_type": "stream",
     "text": [
      "0.9093017578125\n"
     ]
    }
   ],
   "source": [
    "# мой симпсон\n",
    "def fx(x): \n",
    "    return (x**4+1)\n",
    "\n",
    "def simpson(Fx, a,b,h):\n",
    "    n=(b-a) / (2*h)\n",
    "    h=(b-a)/(2*n)\n",
    "#     print(f'n is {n}, h is {h}')\n",
    "    \n",
    "    \n",
    "    xi_array = []\n",
    "    for i in range(0,int(n) * 2 + 1):\n",
    "        xi_array.append(a + (i*h))\n",
    "        \n",
    "#     print(xi_array)\n",
    "    f_xi = [Fx(i) for i in xi_array]\n",
    "    \n",
    "    summ1 = 0\n",
    "    for i in range(1, int(n)):\n",
    "        d = Fx(xi_array[2*i-1])\n",
    "        summ1+=d\n",
    "#     print(summ1)\n",
    "\n",
    "    \n",
    "        \n",
    "    summ2 = 0\n",
    "    for i in range(1, int(n)-1):\n",
    "        summ2 += Fx(xi_array[2*i])\n",
    " \n",
    "    summ2 += Fx(b)\n",
    "    p1 = 4 * summ1\n",
    "    p2 = 2* summ2\n",
    "    p3 = (Fx(a) + p1 + p2)\n",
    "    \n",
    "    print((h/3) * (Fx(a) + p1 + p2 ))\n",
    "\n",
    "    \n",
    "    \n",
    "    \n",
    "#     print(f'h is {h/3}')\n",
    "#     print(h/3 * (Fx(a)  + (4 * summ1) + (2*summ2) + Fx(b)))\n",
    "#     print(xi_array[1::2])\n",
    "\n",
    "\n",
    "\n",
    "simpson(fx, 0, 1, 0.125)\n",
    "\n"
   ]
  },
  {
   "cell_type": "code",
   "execution_count": 111,
   "id": "d510363e",
   "metadata": {},
   "outputs": [
    {
     "data": {
      "text/plain": [
       "1.2083333333333333"
      ]
     },
     "execution_count": 111,
     "metadata": {},
     "output_type": "execute_result"
    }
   ],
   "source": [
    "import numpy as np\n",
    "def simps(f,a,b,N=50):\n",
    "    '''Approximate the integral of f(x) from a to b by Simpson's rule.\n",
    "\n",
    "    Simpson's rule approximates the integral \\int_a^b f(x) dx by the sum:\n",
    "    (dx/3) \\sum_{k=1}^{N/2} (f(x_{2i-2} + 4f(x_{2i-1}) + f(x_{2i}))\n",
    "    where x_i = a + i*dx and dx = (b - a)/N.\n",
    "\n",
    "    Parameters\n",
    "    ----------\n",
    "    f : function\n",
    "        Vectorized function of a single variable\n",
    "    a , b : numbers\n",
    "        Interval of integration [a,b]\n",
    "    N : (even) integer\n",
    "        Number of subintervals of [a,b]\n",
    "\n",
    "    Returns\n",
    "    -------\n",
    "    float\n",
    "        Approximation of the integral of f(x) from a to b using\n",
    "        Simpson's rule with N subintervals of equal length.\n",
    "\n",
    "    Examples\n",
    "    --------\n",
    "    >>> simps(lambda x : 3*x**2,0,1,10)\n",
    "    1.0\n",
    "    '''\n",
    "    dx = (b-a)/N\n",
    "    x = np.linspace(a,b,N+1)\n",
    "    y = f(x)\n",
    "    S = dx/3 * np.sum(y[0:-1:2] + 4*y[1::2] + y[2::2])\n",
    "    return S\n",
    "\n",
    "simps(lambda x : x**4+1,0,1, 2)"
   ]
  },
  {
   "cell_type": "code",
   "execution_count": 439,
   "id": "e6df8f06",
   "metadata": {},
   "outputs": [
    {
     "name": "stdout",
     "output_type": "stream",
     "text": [
      "0.999\n"
     ]
    }
   ],
   "source": [
    "def fun(x):\n",
    "    return x\n",
    "\n",
    "def round_eps(x,e ):\n",
    "    k = 0\n",
    "    while e < 1:\n",
    "        e *= 10\n",
    "        k += 1\n",
    "    return round(x,k)\n",
    "\n",
    "a = 0\n",
    "b = 1\n",
    "eps = 0.001\n",
    "\n",
    "while b-a > eps:\n",
    "    c = (a+b)/2\n",
    "    if fun(a) * fun(c) < 0:\n",
    "        b = c\n",
    "    else: a = c\n",
    "root = round_eps(c, eps)\n",
    "print(root)\n",
    "        \n"
   ]
  },
  {
   "cell_type": "code",
   "execution_count": null,
   "id": "daf4308c",
   "metadata": {},
   "outputs": [],
   "source": []
  },
  {
   "cell_type": "code",
   "execution_count": 108,
   "id": "da8c99e9",
   "metadata": {},
   "outputs": [
    {
     "name": "stdout",
     "output_type": "stream",
     "text": [
      "0.8518518518518517\n"
     ]
    }
   ],
   "source": [
    "def fx(x): \n",
    "    return x\n",
    "\n",
    "def simpson(f, a, b, n):\n",
    "    h=(b-a)/n\n",
    "    k=0.0\n",
    "    x=a + h\n",
    "    for i in range(1,n):\n",
    "        k += 4*f(x)\n",
    "        x += 2*h\n",
    "\n",
    "    x = a + 2*h\n",
    "    for i in range(1,n-1):\n",
    "        k += 2*f(x)\n",
    "        x += 2*h\n",
    "    return (h/3)*(f(a)+f(b)+k)\n",
    "print(simpson(fx, 0, 1, 3))"
   ]
  },
  {
   "cell_type": "code",
   "execution_count": 1,
   "id": "b3775595",
   "metadata": {},
   "outputs": [
    {
     "name": "stdout",
     "output_type": "stream",
     "text": [
      "1 1 1.5\n",
      "2 1 1.25\n",
      "3 1.125 1.25\n",
      "4 1.1875 1.25\n",
      "5 1.21875 1.25\n",
      "6 1.234375 1.25\n",
      "7 1.234375 1.2421875\n",
      "8 1.23828125 1.2421875\n",
      "9 1.240234375 1.2421875\n",
      "10 1.2412109375 1.2421875\n",
      "11 1.24169921875 1.2421875\n",
      "12 1.24169921875 1.241943359375\n",
      "13 1.2418212890625 1.241943359375\n",
      "14 1.24188232421875 1.241943359375\n",
      "15 1.24188232421875 1.241912841796875\n",
      "16 1.24188232421875 1.2418975830078125\n",
      "counter in half divide  16\n",
      "root of the equation half_divide_method 1.2418899536132812\n",
      "counter in newtons  4\n",
      "root of the equation newtons_method 1.2418965630345107\n"
     ]
    }
   ],
   "source": [
    "# Бисекция и Ньютона(стычных)\n",
    "\n",
    "import math\n",
    "\n",
    "# f i f'\n",
    "func_glob =  lambda x: x**3 +2*x**2 - 5\n",
    "func_first = lambda x: 3*x**2 + 4*x\n",
    "\n",
    "a1, b1 = 1, 2\n",
    "\n",
    "e = 0.00001\n",
    "\n",
    "def half_divide_method(a, b, f):\n",
    "    x = (a + b) / 2\n",
    "    count = 0\n",
    "    while math.fabs(f(x)) >= e:\n",
    "        count +=1\n",
    "        x = (a + b) / 2\n",
    "        a, b = (a, x) if f(a) * f(x) < 0 else (x, b)\n",
    "        print(count,a,b)\n",
    "    print('counter in half divide ', count)\n",
    "    return (a + b) / 2\n",
    "\n",
    "\n",
    "def newtons_method(a, b, f, f1):\n",
    "    x0 = (a + b) / 2\n",
    "    x1 = x0 - (f(x0) / f1(x0))\n",
    "    count = 0\n",
    "    while True:\n",
    "        count +=1\n",
    "        if math.fabs(x1 - x0) < e: \n",
    "            print('counter in newtons ', count)\n",
    "            return x1\n",
    "        x0 = x1\n",
    "        x1 = x0 - (f(x0) / f1(x0))\n",
    "    \n",
    "\n",
    "\n",
    "print ('root of the equation half_divide_method %s' % half_divide_method(a1, b1, func_glob))\n",
    "print ('root of the equation newtons_method %s' % newtons_method(a1, b1, func_glob, func_first))"
   ]
  },
  {
   "cell_type": "code",
   "execution_count": null,
   "id": "cacf1f2c",
   "metadata": {},
   "outputs": [],
   "source": [
    "import math\n",
    "\n",
    "def F(x):\n",
    "    return 0.1 * math.pow(x, 2) - x * math.log(x)\n",
    "\n",
    "def F1(x):\n",
    "    res=0.2 * x - math.log(x) - 1\n",
    "    print(res)\n",
    "    return res\n",
    "\n",
    "def Method(a, b):\n",
    "    try:\n",
    "        x0 = (a + b) / 2\n",
    "        xn = F(x0)\n",
    "        xn1 = xn - F(xn) / F1(xn)\n",
    "        while abs(xn1 - xn) > math.pow(10, -5):\n",
    "            xn = xn1  # вот так надо было\n",
    "            xn1 = xn - F(xn) / F1(xn)\n",
    "        print(xn1)\n",
    "        return xn1\n",
    "    except ValueError:\n",
    "        print(\"Value not invalidate\")\n",
    "\n",
    "if __name__ == '__main__':\n",
    "    x=float(input())\n",
    "    a=float(input())\n",
    "    b=float(input())\n",
    "    F(x)\n",
    "    F1(x)\n",
    "    Method(a, b)"
   ]
  },
  {
   "cell_type": "code",
   "execution_count": 421,
   "id": "b9f3bf12",
   "metadata": {},
   "outputs": [
    {
     "name": "stdout",
     "output_type": "stream",
     "text": [
      "нету корней\n"
     ]
    }
   ],
   "source": [
    "a = 2.0; b = 10.0; e = 0.01\n",
    "\n",
    "def f(x):\n",
    "    return x**3-3*x+2\n",
    "\n",
    "y1 = f(a); y2 = f(b)\n",
    "\n",
    "if y1 * y2 >= 0:\n",
    "    print('нету корней')\n",
    "else:\n",
    "    n = 1\n",
    "\n",
    "    #c = (a+b)/2\n",
    "    c = (y2*a - y1*b)/(y2 - y1);\n",
    "\n",
    "    y3 = f(c)\n",
    "    while (abs(y3) > e):\n",
    "        #c = (a+b)/2\n",
    "        c = (y2*a - y1*b)/(y2 - y1);\n",
    "\n",
    "        y3 = f(c)\n",
    "        if y1 * y3 < 0:\n",
    "            b = c\n",
    "        else:\n",
    "            a = c\n",
    "        n += 1\n",
    "    print(\"c=%15.10f y3=%15.10f n=%15.10f\" % (c, y3, n))\n"
   ]
  },
  {
   "cell_type": "code",
   "execution_count": 6,
   "id": "d36af62b",
   "metadata": {},
   "outputs": [
    {
     "name": "stdout",
     "output_type": "stream",
     "text": [
      "X IS 1.6666666666666665 , in step : 1\n",
      "X IS 1.2686567164179106 , in step : 2\n",
      "X IS 1.3181523071413805 , in step : 3\n",
      "X IS 1.328605222986527 , in step : 4\n",
      "X IS 1.3282669909755858 , in step : 5\n",
      "1.3282669909755858 0.01\n",
      "1.33\n"
     ]
    }
   ],
   "source": [
    "# секущие ОК\n",
    "import math\n",
    "\n",
    "def fun(x):\n",
    "    return x**3+2*x -5\n",
    "\n",
    "def round_eps(x,e):\n",
    "    k = 0\n",
    "    while e < 1:\n",
    "        e *= 10\n",
    "        k += 1\n",
    "    return round(x,k)\n",
    "\n",
    "x0 = 0\n",
    "x1 = 1\n",
    "eps = 0.01\n",
    "\n",
    "x2 = x1-(x1-x0) * fun(x0) / (fun(x1) - fun(x0))\n",
    "i = 0\n",
    "while math.fabs(x0-x1) > eps:\n",
    "    i += 1\n",
    "    x2 = x1 - (x1-x0)*fun(x1)/(fun(x1)- fun(x0))\n",
    "    x0 = x1\n",
    "    x1 = x2\n",
    "    print(f\"X IS {x2} , in step : {i}\")\n",
    "print(x2, eps)\n",
    "print(round_eps(x2, eps))"
   ]
  },
  {
   "cell_type": "code",
   "execution_count": null,
   "id": "81db78ac",
   "metadata": {},
   "outputs": [],
   "source": []
  },
  {
   "cell_type": "code",
   "execution_count": null,
   "id": "94bae913",
   "metadata": {},
   "outputs": [],
   "source": []
  },
  {
   "cell_type": "code",
   "execution_count": null,
   "id": "9d3fb20a",
   "metadata": {},
   "outputs": [],
   "source": []
  },
  {
   "cell_type": "code",
   "execution_count": null,
   "id": "b39201f6",
   "metadata": {},
   "outputs": [],
   "source": []
  },
  {
   "cell_type": "code",
   "execution_count": null,
   "id": "15f2bc30",
   "metadata": {},
   "outputs": [],
   "source": []
  },
  {
   "cell_type": "code",
   "execution_count": null,
   "id": "c52b1e7f",
   "metadata": {},
   "outputs": [],
   "source": []
  },
  {
   "cell_type": "code",
   "execution_count": null,
   "id": "589ab487",
   "metadata": {},
   "outputs": [],
   "source": []
  },
  {
   "cell_type": "code",
   "execution_count": null,
   "id": "7c083076",
   "metadata": {},
   "outputs": [],
   "source": []
  },
  {
   "cell_type": "code",
   "execution_count": null,
   "id": "4179e17c",
   "metadata": {},
   "outputs": [],
   "source": []
  },
  {
   "cell_type": "code",
   "execution_count": null,
   "id": "771ffa3e",
   "metadata": {},
   "outputs": [],
   "source": []
  },
  {
   "cell_type": "code",
   "execution_count": null,
   "id": "a133e1bc",
   "metadata": {},
   "outputs": [],
   "source": []
  },
  {
   "cell_type": "code",
   "execution_count": null,
   "id": "8c9f57da",
   "metadata": {},
   "outputs": [],
   "source": []
  },
  {
   "cell_type": "code",
   "execution_count": null,
   "id": "f721ca9e",
   "metadata": {},
   "outputs": [],
   "source": []
  },
  {
   "cell_type": "code",
   "execution_count": null,
   "id": "d9796822",
   "metadata": {},
   "outputs": [],
   "source": []
  },
  {
   "cell_type": "code",
   "execution_count": null,
   "id": "0662c44f",
   "metadata": {},
   "outputs": [],
   "source": []
  },
  {
   "cell_type": "code",
   "execution_count": null,
   "id": "b3647569",
   "metadata": {},
   "outputs": [],
   "source": []
  },
  {
   "cell_type": "code",
   "execution_count": null,
   "id": "62f882fd",
   "metadata": {},
   "outputs": [],
   "source": []
  },
  {
   "cell_type": "code",
   "execution_count": null,
   "id": "15ce6c03",
   "metadata": {},
   "outputs": [],
   "source": []
  },
  {
   "cell_type": "code",
   "execution_count": null,
   "id": "25f0ad4a",
   "metadata": {},
   "outputs": [],
   "source": []
  },
  {
   "cell_type": "code",
   "execution_count": null,
   "id": "0157ab36",
   "metadata": {},
   "outputs": [],
   "source": []
  }
 ],
 "metadata": {
  "kernelspec": {
   "display_name": "env",
   "language": "python",
   "name": "env"
  },
  "language_info": {
   "codemirror_mode": {
    "name": "ipython",
    "version": 3
   },
   "file_extension": ".py",
   "mimetype": "text/x-python",
   "name": "python",
   "nbconvert_exporter": "python",
   "pygments_lexer": "ipython3",
   "version": "3.8.5"
  }
 },
 "nbformat": 4,
 "nbformat_minor": 5
}
